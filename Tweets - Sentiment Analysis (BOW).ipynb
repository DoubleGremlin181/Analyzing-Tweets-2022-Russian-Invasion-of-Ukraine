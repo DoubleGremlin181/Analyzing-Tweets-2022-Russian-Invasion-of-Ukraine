{
 "cells": [
  {
   "cell_type": "code",
   "execution_count": 1,
   "id": "4cf5a91f",
   "metadata": {},
   "outputs": [
    {
     "name": "stdout",
     "output_type": "stream",
     "text": [
      "INFO: Pandarallel will run on 8 workers.\n",
      "INFO: Pandarallel will use Memory file system to transfer data between the main process and workers.\n"
     ]
    }
   ],
   "source": [
    "import pandas as pd\n",
    "import numpy as np\n",
    "\n",
    "from pandarallel import pandarallel\n",
    "pandarallel.initialize(progress_bar=True)\n",
    "\n",
    "from glob import glob\n",
    "\n",
    "import re\n",
    "\n",
    "from textblob import TextBlob\n",
    "\n",
    "from tqdm.auto import tqdm\n",
    "tqdm.pandas()"
   ]
  },
  {
   "cell_type": "markdown",
   "id": "ee7c5910",
   "metadata": {},
   "source": [
    "## Reading the data"
   ]
  },
  {
   "cell_type": "code",
   "execution_count": 2,
   "id": "d621ece0",
   "metadata": {},
   "outputs": [
    {
     "data": {
      "application/vnd.jupyter.widget-view+json": {
       "model_id": "c54901c2ff514e8cb40a95d7670e455b",
       "version_major": 2,
       "version_minor": 0
      },
      "text/plain": [
       "  0%|          | 0/13 [00:00<?, ?it/s]"
      ]
     },
     "metadata": {},
     "output_type": "display_data"
    },
    {
     "name": "stdout",
     "output_type": "stream",
     "text": [
      "Reading UkraineTweets/UkraineCombinedTweetsDeduped_MAR03.csv\n",
      "Reading UkraineTweets/UkraineCombinedTweetsDeduped_MAR08.csv\n",
      "Reading UkraineTweets/UkraineCombinedTweetsDeduped_FEB27.csv\n",
      "Reading UkraineTweets/UkraineCombinedTweetsDeduped_MAR06.csv\n",
      "Reading UkraineTweets/UkraineCombinedTweetsDeduped_FEB28_part1.csv\n",
      "Reading UkraineTweets/UkraineCombinedTweetsDeduped_FEB28_part2.csv\n",
      "Reading UkraineTweets/UkraineCombinedTweetsDeduped_MAR02.csv\n",
      "Reading UkraineTweets/UkraineCombinedTweetsDeduped_MAR10.csv\n",
      "Reading UkraineTweets/UkraineCombinedTweetsDeduped_MAR09.csv\n",
      "Reading UkraineTweets/UkraineCombinedTweetsDeduped_MAR01.csv\n",
      "Reading UkraineTweets/UkraineCombinedTweetsDeduped_MAR07.csv\n",
      "Reading UkraineTweets/UkraineCombinedTweetsDeduped_MAR04.csv\n",
      "Reading UkraineTweets/UkraineCombinedTweetsDeduped_MAR05.csv\n"
     ]
    }
   ],
   "source": [
    "frames = []\n",
    "\n",
    "for file in tqdm(glob('UkraineTweets/*')):\n",
    "    print(f\"Reading {file}\")\n",
    "    df = pd.read_csv(file, usecols=['tweetid', 'text', 'hashtags', 'language'])  # Filtering columns\n",
    "    df = df.loc[df['language'] == 'en'].reset_index(drop=True)  # Filtering language\n",
    "    df['date'] = re.findall(r\"[A-Z]{3}[0-9]{2}\",file)[0]\n",
    "    frames.append(df)\n",
    "\n",
    "combined_df = pd.concat(frames, axis=0, ignore_index=True)"
   ]
  },
  {
   "cell_type": "code",
   "execution_count": 3,
   "id": "9b0f5698",
   "metadata": {
    "scrolled": true
   },
   "outputs": [
    {
     "name": "stdout",
     "output_type": "stream",
     "text": [
      "<class 'pandas.core.frame.DataFrame'>\n",
      "RangeIndex: 3735462 entries, 0 to 3735461\n",
      "Data columns (total 5 columns):\n",
      " #   Column    Dtype \n",
      "---  ------    ----- \n",
      " 0   tweetid   int64 \n",
      " 1   text      object\n",
      " 2   hashtags  object\n",
      " 3   language  object\n",
      " 4   date      object\n",
      "dtypes: int64(1), object(4)\n",
      "memory usage: 142.5+ MB\n"
     ]
    }
   ],
   "source": [
    "combined_df.info()"
   ]
  },
  {
   "cell_type": "code",
   "execution_count": 4,
   "id": "bfc8e334",
   "metadata": {},
   "outputs": [
    {
     "data": {
      "application/vnd.jupyter.widget-view+json": {
       "model_id": "c793a554fed046bea6baea6b0d78fcd6",
       "version_major": 2,
       "version_minor": 0
      },
      "text/plain": [
       "VBox(children=(HBox(children=(IntProgress(value=0, description='0.00%', max=466933), Label(value='0 / 466933')…"
      ]
     },
     "metadata": {},
     "output_type": "display_data"
    }
   ],
   "source": [
    "combined_df['hashtags'] = combined_df.hashtags.parallel_map(lambda x: [i['text'] for i in eval(x)])  # Keeping only hashtags"
   ]
  },
  {
   "cell_type": "code",
   "execution_count": 5,
   "id": "ec7ba798",
   "metadata": {
    "scrolled": true
   },
   "outputs": [
    {
     "data": {
      "text/html": [
       "<div>\n",
       "<style scoped>\n",
       "    .dataframe tbody tr th:only-of-type {\n",
       "        vertical-align: middle;\n",
       "    }\n",
       "\n",
       "    .dataframe tbody tr th {\n",
       "        vertical-align: top;\n",
       "    }\n",
       "\n",
       "    .dataframe thead th {\n",
       "        text-align: right;\n",
       "    }\n",
       "</style>\n",
       "<table border=\"1\" class=\"dataframe\">\n",
       "  <thead>\n",
       "    <tr style=\"text-align: right;\">\n",
       "      <th></th>\n",
       "      <th>tweetid</th>\n",
       "      <th>text</th>\n",
       "      <th>hashtags</th>\n",
       "      <th>language</th>\n",
       "      <th>date</th>\n",
       "    </tr>\n",
       "  </thead>\n",
       "  <tbody>\n",
       "    <tr>\n",
       "      <th>0</th>\n",
       "      <td>1499174584720969730</td>\n",
       "      <td>Map situation in #Ukraine after the seventh da...</td>\n",
       "      <td>[Ukraine, RussiaUkraineConflict]</td>\n",
       "      <td>en</td>\n",
       "      <td>MAR03</td>\n",
       "    </tr>\n",
       "    <tr>\n",
       "      <th>1</th>\n",
       "      <td>1499174584976826368</td>\n",
       "      <td>#Ukraine: Let's just say it's not just the TB-...</td>\n",
       "      <td>[Ukraine]</td>\n",
       "      <td>en</td>\n",
       "      <td>MAR03</td>\n",
       "    </tr>\n",
       "    <tr>\n",
       "      <th>2</th>\n",
       "      <td>1499174585073242116</td>\n",
       "      <td>⚡️The SWIFT company confirmed that it will dis...</td>\n",
       "      <td>[EU, Russian]</td>\n",
       "      <td>en</td>\n",
       "      <td>MAR03</td>\n",
       "    </tr>\n",
       "    <tr>\n",
       "      <th>3</th>\n",
       "      <td>1499174585987600384</td>\n",
       "      <td>#Ukraine: Ukrainian forces recovered a Eniks E...</td>\n",
       "      <td>[Ukraine]</td>\n",
       "      <td>en</td>\n",
       "      <td>MAR03</td>\n",
       "    </tr>\n",
       "    <tr>\n",
       "      <th>4</th>\n",
       "      <td>1499174586159665155</td>\n",
       "      <td>Volunteers needed for a rapid-response #DH #Di...</td>\n",
       "      <td>[DH, DigitalHumanities, CulturalHeritage]</td>\n",
       "      <td>en</td>\n",
       "      <td>MAR03</td>\n",
       "    </tr>\n",
       "  </tbody>\n",
       "</table>\n",
       "</div>"
      ],
      "text/plain": [
       "               tweetid                                               text  \\\n",
       "0  1499174584720969730  Map situation in #Ukraine after the seventh da...   \n",
       "1  1499174584976826368  #Ukraine: Let's just say it's not just the TB-...   \n",
       "2  1499174585073242116  ⚡️The SWIFT company confirmed that it will dis...   \n",
       "3  1499174585987600384  #Ukraine: Ukrainian forces recovered a Eniks E...   \n",
       "4  1499174586159665155  Volunteers needed for a rapid-response #DH #Di...   \n",
       "\n",
       "                                    hashtags language   date  \n",
       "0           [Ukraine, RussiaUkraineConflict]       en  MAR03  \n",
       "1                                  [Ukraine]       en  MAR03  \n",
       "2                              [EU, Russian]       en  MAR03  \n",
       "3                                  [Ukraine]       en  MAR03  \n",
       "4  [DH, DigitalHumanities, CulturalHeritage]       en  MAR03  "
      ]
     },
     "execution_count": 5,
     "metadata": {},
     "output_type": "execute_result"
    }
   ],
   "source": [
    "combined_df.head()"
   ]
  },
  {
   "cell_type": "markdown",
   "id": "1af701ae",
   "metadata": {},
   "source": [
    "## Preprocessing the data "
   ]
  },
  {
   "cell_type": "code",
   "execution_count": 6,
   "id": "b0607008",
   "metadata": {},
   "outputs": [
    {
     "data": {
      "application/vnd.jupyter.widget-view+json": {
       "model_id": "c7497b738ff141f6af9bc938cc4bf1b1",
       "version_major": 2,
       "version_minor": 0
      },
      "text/plain": [
       "  0%|          | 0/3735462 [00:00<?, ?it/s]"
      ]
     },
     "metadata": {},
     "output_type": "display_data"
    }
   ],
   "source": [
    "def preprocess(text):\n",
    "    new_text = []\n",
    " \n",
    " \n",
    "    for t in text.split(\" \"):\n",
    "        t = '@user' if t.startswith('@') and len(t) > 1 else t\n",
    "        t = 'http' if t.startswith('http') else t\n",
    "        new_text.append(t)\n",
    "    return \" \".join(new_text)\n",
    "\n",
    "combined_df['text'] = combined_df['text'].progress_apply(preprocess)"
   ]
  },
  {
   "cell_type": "markdown",
   "id": "f82d3efd",
   "metadata": {},
   "source": [
    "## Sentiment Analysis"
   ]
  },
  {
   "cell_type": "code",
   "execution_count": 7,
   "id": "4671ee31",
   "metadata": {},
   "outputs": [
    {
     "data": {
      "application/vnd.jupyter.widget-view+json": {
       "model_id": "8e4ad01a883c46329ec37c7c7545a69e",
       "version_major": 2,
       "version_minor": 0
      },
      "text/plain": [
       "VBox(children=(HBox(children=(IntProgress(value=0, description='0.00%', max=466933), Label(value='0 / 466933')…"
      ]
     },
     "metadata": {},
     "output_type": "display_data"
    }
   ],
   "source": [
    "def get_sentiment(tweet):\n",
    "    sentiment = TextBlob(tweet).sentiment\n",
    "    return sentiment.polarity, sentiment.subjectivity\n",
    "\n",
    "combined_df['sentiment'] = combined_df['text'].parallel_apply(get_sentiment)"
   ]
  },
  {
   "cell_type": "code",
   "execution_count": 8,
   "id": "4a0dc59b",
   "metadata": {},
   "outputs": [
    {
     "data": {
      "application/vnd.jupyter.widget-view+json": {
       "model_id": "cbc19b61d3544e958c276f0e7b145500",
       "version_major": 2,
       "version_minor": 0
      },
      "text/plain": [
       "  0%|          | 0/3735462 [00:00<?, ?it/s]"
      ]
     },
     "metadata": {},
     "output_type": "display_data"
    },
    {
     "data": {
      "application/vnd.jupyter.widget-view+json": {
       "model_id": "d5ee9c03cb8b4746a9ece9553c6472d4",
       "version_major": 2,
       "version_minor": 0
      },
      "text/plain": [
       "  0%|          | 0/3735462 [00:00<?, ?it/s]"
      ]
     },
     "metadata": {},
     "output_type": "display_data"
    }
   ],
   "source": [
    "combined_df['polarity'] = combined_df['sentiment'].progress_apply(lambda x:x[0])\n",
    "combined_df['subjectivity'] = combined_df['sentiment'].progress_apply(lambda x:x[0])"
   ]
  },
  {
   "cell_type": "code",
   "execution_count": 12,
   "id": "2116e9d4",
   "metadata": {},
   "outputs": [],
   "source": [
    "combined_df.drop('sentiment', axis=1, inplace=True)"
   ]
  },
  {
   "cell_type": "code",
   "execution_count": 15,
   "id": "c388c99c",
   "metadata": {},
   "outputs": [],
   "source": [
    "combined_df.to_csv(\"Tweets - Sentiment Analysis (BOW).csv\", index=False)"
   ]
  }
 ],
 "metadata": {
  "kernelspec": {
   "display_name": "Python 3 (ipykernel)",
   "language": "python",
   "name": "python3"
  },
  "language_info": {
   "codemirror_mode": {
    "name": "ipython",
    "version": 3
   },
   "file_extension": ".py",
   "mimetype": "text/x-python",
   "name": "python",
   "nbconvert_exporter": "python",
   "pygments_lexer": "ipython3",
   "version": "3.8.8"
  }
 },
 "nbformat": 4,
 "nbformat_minor": 5
}
